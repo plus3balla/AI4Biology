{
 "cells": [
  {
   "cell_type": "markdown",
   "id": "fe21452b",
   "metadata": {},
   "source": [
    "# <center> Импорт библоиотек <center>"
   ]
  },
  {
   "cell_type": "markdown",
   "id": "963b7ecb",
   "metadata": {},
   "source": [
    "*NOTE*: не забудьте составить список библиотек, необходимых для реализации ваших решений, и представить их в файле `requirements.txt`."
   ]
  },
  {
   "cell_type": "code",
   "execution_count": 502,
   "id": "e689b078",
   "metadata": {},
   "outputs": [],
   "source": [
    "import pickle\n",
    "import random\n",
    "import json\n",
    "import pandas as pd\n",
    "import numpy as np\n",
    "\n",
    "import matplotlib.pyplot as plt\n",
    "\n",
    "from sklearn.metrics import f1_score"
   ]
  },
  {
   "cell_type": "markdown",
   "id": "88a0c54e",
   "metadata": {},
   "source": [
    "# <center> Чтение данных <center>"
   ]
  },
  {
   "cell_type": "markdown",
   "id": "c6628f04",
   "metadata": {},
   "source": [
    "Тренировчные данные представлены в виде файла в формате JSON. В котором верхенеуровневый ключ -- это номер образца (бакетрии). Каждый словарь по бактериям содержит название штамма и результаты масс-спектрометрического анализа, которые представлены следующими полями: масса к заряду (m/z), время (time), интенсивность пика (Intens.), разрешение (Res.), площадь пика (Area), относительная интенсивность (Rel. Intens.), ширина на полувысоте (FWHM=full width at half-maximum intensity). Каждый штамм будет представлен несколькими бактериями."
   ]
  },
  {
   "cell_type": "code",
   "execution_count": 503,
   "id": "5088ded8",
   "metadata": {},
   "outputs": [],
   "source": [
    "with open('input/train.json', 'rb') as fp:\n",
    "    train_d = json.load(fp)\n",
    "train_df = pd.DataFrame(json.loads(train_d)).T"
   ]
  },
  {
   "cell_type": "code",
   "execution_count": 504,
   "id": "4a55355a",
   "metadata": {},
   "outputs": [
    {
     "data": {
      "text/plain": "(256, 10)"
     },
     "execution_count": 504,
     "metadata": {},
     "output_type": "execute_result"
    }
   ],
   "source": [
    "train_df.shape"
   ]
  },
  {
   "cell_type": "code",
   "execution_count": 505,
   "id": "d3462a80",
   "metadata": {},
   "outputs": [
    {
     "data": {
      "text/plain": "                                 strain\nstrain                                 \nAcinetobacter baumani_121 skin        9\nAcinetobacter baumani_126             9\nAcinetobacter baumani_352 blood      10\nAcinetobacter baumani_377 blood      11\nAcinetobacter baumani_503 blood      11\nAcinetobacter baumani_63              9\nAcinetobacter baumani_64             11\nAcinetobacter baumani_73             10\nAcinetobacter baumani_74             11\nPseudomonas aeruginosa_XXX           11\nPseudomonas fluorescence_965         11\nPseudomonas spp_467                   8\nStaphilococcus aureus_1 949           8\nStaphilococcus aureus_1027 q         10\nStaphilococcus aureus_11 K817        11\nStaphilococcus aureus_12 K457        11\nStaphilococcus aureus_15             11\nStaphilococcus aureus_16              9\nStaphilococcus aureus_19 MRSA        11\nStaphilococcus aureus_3 1027          8\nStaphilococcus aureus_4 948          10\nStaphilococcus aureus_6 1006         10\nStaphilococcus aureus_7 941           9\nStaphilococcus aureus_8 942           9\nStaphilococcus aureus_9 963          10\nStaphilococcus aureus_K160            8",
      "text/html": "<div>\n<style scoped>\n    .dataframe tbody tr th:only-of-type {\n        vertical-align: middle;\n    }\n\n    .dataframe tbody tr th {\n        vertical-align: top;\n    }\n\n    .dataframe thead th {\n        text-align: right;\n    }\n</style>\n<table border=\"1\" class=\"dataframe\">\n  <thead>\n    <tr style=\"text-align: right;\">\n      <th></th>\n      <th>strain</th>\n    </tr>\n    <tr>\n      <th>strain</th>\n      <th></th>\n    </tr>\n  </thead>\n  <tbody>\n    <tr>\n      <th>Acinetobacter baumani_121 skin</th>\n      <td>9</td>\n    </tr>\n    <tr>\n      <th>Acinetobacter baumani_126</th>\n      <td>9</td>\n    </tr>\n    <tr>\n      <th>Acinetobacter baumani_352 blood</th>\n      <td>10</td>\n    </tr>\n    <tr>\n      <th>Acinetobacter baumani_377 blood</th>\n      <td>11</td>\n    </tr>\n    <tr>\n      <th>Acinetobacter baumani_503 blood</th>\n      <td>11</td>\n    </tr>\n    <tr>\n      <th>Acinetobacter baumani_63</th>\n      <td>9</td>\n    </tr>\n    <tr>\n      <th>Acinetobacter baumani_64</th>\n      <td>11</td>\n    </tr>\n    <tr>\n      <th>Acinetobacter baumani_73</th>\n      <td>10</td>\n    </tr>\n    <tr>\n      <th>Acinetobacter baumani_74</th>\n      <td>11</td>\n    </tr>\n    <tr>\n      <th>Pseudomonas aeruginosa_XXX</th>\n      <td>11</td>\n    </tr>\n    <tr>\n      <th>Pseudomonas fluorescence_965</th>\n      <td>11</td>\n    </tr>\n    <tr>\n      <th>Pseudomonas spp_467</th>\n      <td>8</td>\n    </tr>\n    <tr>\n      <th>Staphilococcus aureus_1 949</th>\n      <td>8</td>\n    </tr>\n    <tr>\n      <th>Staphilococcus aureus_1027 q</th>\n      <td>10</td>\n    </tr>\n    <tr>\n      <th>Staphilococcus aureus_11 K817</th>\n      <td>11</td>\n    </tr>\n    <tr>\n      <th>Staphilococcus aureus_12 K457</th>\n      <td>11</td>\n    </tr>\n    <tr>\n      <th>Staphilococcus aureus_15</th>\n      <td>11</td>\n    </tr>\n    <tr>\n      <th>Staphilococcus aureus_16</th>\n      <td>9</td>\n    </tr>\n    <tr>\n      <th>Staphilococcus aureus_19 MRSA</th>\n      <td>11</td>\n    </tr>\n    <tr>\n      <th>Staphilococcus aureus_3 1027</th>\n      <td>8</td>\n    </tr>\n    <tr>\n      <th>Staphilococcus aureus_4 948</th>\n      <td>10</td>\n    </tr>\n    <tr>\n      <th>Staphilococcus aureus_6 1006</th>\n      <td>10</td>\n    </tr>\n    <tr>\n      <th>Staphilococcus aureus_7 941</th>\n      <td>9</td>\n    </tr>\n    <tr>\n      <th>Staphilococcus aureus_8 942</th>\n      <td>9</td>\n    </tr>\n    <tr>\n      <th>Staphilococcus aureus_9 963</th>\n      <td>10</td>\n    </tr>\n    <tr>\n      <th>Staphilococcus aureus_K160</th>\n      <td>8</td>\n    </tr>\n  </tbody>\n</table>\n</div>"
     },
     "execution_count": 505,
     "metadata": {},
     "output_type": "execute_result"
    }
   ],
   "source": [
    "## Посмотрим сколько классов данных и сколько примеров на каждый класс\n",
    "train_df.groupby('strain').agg({'strain': \"count\"})"
   ]
  },
  {
   "cell_type": "markdown",
   "id": "ed4df735",
   "metadata": {},
   "source": [
    "Так как тренировочный набор данных не очень большой, дополним его симмулированными данными. Для этого составим дополнительные примеры из существующих. Зададим seed для воспроизводимости результатов."
   ]
  },
  {
   "cell_type": "code",
   "execution_count": 506,
   "id": "d4da3481",
   "metadata": {},
   "outputs": [],
   "source": [
    "# для начала орпеделим количестов пиков в масс-спектрах\n",
    "train_df.loc[:,'n_peak'] = train_df['m/z'].apply(len)"
   ]
  },
  {
   "cell_type": "code",
   "execution_count": 507,
   "id": "e2964d36",
   "metadata": {},
   "outputs": [],
   "source": [
    "def get_dif(x):\n",
    "    return max(x) - min(x)"
   ]
  },
  {
   "cell_type": "code",
   "execution_count": 508,
   "id": "3af3818d",
   "metadata": {},
   "outputs": [],
   "source": [
    "# посмотрим на сколько по количеству строк (пиков) различаются таблицы внутри каждого штамма\n",
    "peaks_dif = train_df.groupby(['strain']).agg({'n_peak': get_dif})"
   ]
  },
  {
   "cell_type": "code",
   "execution_count": 510,
   "id": "0614273a",
   "metadata": {},
   "outputs": [],
   "source": [
    "# будем использовать среднюю разности для варьирования числа пиков в сгенерированных данных\n",
    "mean_dif = int(peaks_dif.n_peak.mean()) "
   ]
  },
  {
   "cell_type": "code",
   "execution_count": 511,
   "id": "0a209010",
   "metadata": {},
   "outputs": [],
   "source": [
    "FEATURES = ['m/z', 'time', 'Intens.', 'SN', 'Res.', 'Area', 'Rel. Intens.',\n",
    "            'FWHM', 'Bk. Peak']"
   ]
  },
  {
   "cell_type": "code",
   "execution_count": 512,
   "id": "3765a513",
   "metadata": {},
   "outputs": [],
   "source": [
    "np.random.seed(142)\n",
    "train_gen = pd.DataFrame()\n",
    "for strain in train_df.strain.unique():\n",
    "    tmp = train_df[train_df.strain == strain]\n",
    "    n_samples = tmp.shape[0]\n",
    "    s = np.random.randint(max(tmp.n_peak) - mean_dif, max(tmp.n_peak), 6)\n",
    "    strain_df = pd.DataFrame()\n",
    "    \n",
    "    for i,sample in enumerate(tmp[FEATURES].values):\n",
    "        tmp_i = pd.DataFrame(list(sample)).T\n",
    "        tmp_i.columns = FEATURES\n",
    "        strain_df = pd.concat([strain_df, tmp_i])\n",
    "    for i in range(0,6):\n",
    "        df_i = pd.DataFrame()\n",
    "        idx = []\n",
    "        for n in range(0,s[i]):\n",
    "            if isinstance(strain_df.loc[n], pd.Series):\n",
    "                continue\n",
    "            else:\n",
    "                df_i = pd.concat([df_i, strain_df.loc[n].sample(n=1)])\n",
    "        df_i[['id']] = i\n",
    "        df_i.loc[:, 'strain'] = tmp.strain.unique()[0]\n",
    "        df_i.loc[:, 'n_peak'] = n\n",
    "        train_gen = pd.concat([train_gen, df_i])        "
   ]
  },
  {
   "cell_type": "code",
   "execution_count": 513,
   "id": "3efca56e",
   "metadata": {},
   "outputs": [
    {
     "data": {
      "text/plain": "(12349, 12)"
     },
     "execution_count": 513,
     "metadata": {},
     "output_type": "execute_result"
    }
   ],
   "source": [
    "train_gen.shape"
   ]
  },
  {
   "cell_type": "code",
   "execution_count": 514,
   "id": "3673032c",
   "metadata": {},
   "outputs": [
    {
     "name": "stderr",
     "output_type": "stream",
     "text": [
      "C:\\Users\\micapic\\AppData\\Local\\Temp\\ipykernel_7648\\3242894118.py:2: FutureWarning: In a future version, `df.iloc[:, i] = newvals` will attempt to set the values inplace instead of always setting a new array. To retain the old behavior, use either `df[df.columns[i]] = newvals` or, if columns are non-unique, `df.isetitem(i, newvals)`\n",
      "  train_gen.loc[:,'n_peak'] = train_gen.n_peak.apply(min)\n"
     ]
    }
   ],
   "source": [
    "train_gen = train_gen.groupby(['strain', 'id']).agg(list).reset_index().drop(['id'], axis = 1)\n",
    "train_gen.loc[:,'n_peak'] = train_gen.n_peak.apply(min)"
   ]
  },
  {
   "cell_type": "markdown",
   "id": "a303e395",
   "metadata": {},
   "source": [
    "Совместим оригинальных датасет и сгенерированный."
   ]
  },
  {
   "cell_type": "code",
   "execution_count": 515,
   "id": "fa790921",
   "metadata": {},
   "outputs": [],
   "source": [
    "train_df = pd.concat([train_df, train_gen[train_df.columns]])"
   ]
  },
  {
   "cell_type": "code",
   "execution_count": 516,
   "id": "d2474086",
   "metadata": {},
   "outputs": [
    {
     "data": {
      "text/plain": "(412, 11)"
     },
     "execution_count": 516,
     "metadata": {},
     "output_type": "execute_result"
    }
   ],
   "source": [
    "train_df.shape"
   ]
  },
  {
   "cell_type": "markdown",
   "id": "84e4f0ab",
   "metadata": {},
   "source": [
    "# <center> Обработка данных и генерация признаков<center>"
   ]
  },
  {
   "cell_type": "markdown",
   "id": "00a58531",
   "metadata": {},
   "source": [
    "Пример таблицы с данными по масс-спектру для одного образца"
   ]
  },
  {
   "cell_type": "code",
   "execution_count": 517,
   "id": "4c4a3f9a",
   "metadata": {},
   "outputs": [],
   "source": [
    "example = train_df[FEATURES]\\\n",
    "         .loc[(train_df.strain == 'Staphilococcus aureus_6 1006')].iloc[0]\n",
    "example = pd.DataFrame(list(example)).T\n",
    "example.columns = FEATURES"
   ]
  },
  {
   "cell_type": "code",
   "execution_count": 518,
   "id": "4c08edff",
   "metadata": {},
   "outputs": [
    {
     "data": {
      "text/plain": "           m/z          time      Intens.        SN        Res.          Area  \\\n0  2141.595860  46248.308185  1849.671417  5.023842  449.793188  13621.062834   \n1  2154.140758  46381.493984  1299.384644  3.529223  458.732871   9421.672911   \n2  2180.436755  46659.416149  1203.332001  3.317415  443.973316   9161.078120   \n3  2297.759326  47879.408034  1426.807159  3.967446  620.345018   9085.341876   \n4  2764.201381  52445.360112  1586.883118  4.470495  629.209920  12546.815080   \n\n   Rel. Intens.      FWHM  Bk. Peak  \n0      0.084247  4.761290       0.0  \n1      0.059183  4.695850       0.0  \n2      0.054808  4.911189       0.0  \n3      0.064987  3.704002       0.0  \n4      0.072278  4.393131       0.0  ",
      "text/html": "<div>\n<style scoped>\n    .dataframe tbody tr th:only-of-type {\n        vertical-align: middle;\n    }\n\n    .dataframe tbody tr th {\n        vertical-align: top;\n    }\n\n    .dataframe thead th {\n        text-align: right;\n    }\n</style>\n<table border=\"1\" class=\"dataframe\">\n  <thead>\n    <tr style=\"text-align: right;\">\n      <th></th>\n      <th>m/z</th>\n      <th>time</th>\n      <th>Intens.</th>\n      <th>SN</th>\n      <th>Res.</th>\n      <th>Area</th>\n      <th>Rel. Intens.</th>\n      <th>FWHM</th>\n      <th>Bk. Peak</th>\n    </tr>\n  </thead>\n  <tbody>\n    <tr>\n      <th>0</th>\n      <td>2141.595860</td>\n      <td>46248.308185</td>\n      <td>1849.671417</td>\n      <td>5.023842</td>\n      <td>449.793188</td>\n      <td>13621.062834</td>\n      <td>0.084247</td>\n      <td>4.761290</td>\n      <td>0.0</td>\n    </tr>\n    <tr>\n      <th>1</th>\n      <td>2154.140758</td>\n      <td>46381.493984</td>\n      <td>1299.384644</td>\n      <td>3.529223</td>\n      <td>458.732871</td>\n      <td>9421.672911</td>\n      <td>0.059183</td>\n      <td>4.695850</td>\n      <td>0.0</td>\n    </tr>\n    <tr>\n      <th>2</th>\n      <td>2180.436755</td>\n      <td>46659.416149</td>\n      <td>1203.332001</td>\n      <td>3.317415</td>\n      <td>443.973316</td>\n      <td>9161.078120</td>\n      <td>0.054808</td>\n      <td>4.911189</td>\n      <td>0.0</td>\n    </tr>\n    <tr>\n      <th>3</th>\n      <td>2297.759326</td>\n      <td>47879.408034</td>\n      <td>1426.807159</td>\n      <td>3.967446</td>\n      <td>620.345018</td>\n      <td>9085.341876</td>\n      <td>0.064987</td>\n      <td>3.704002</td>\n      <td>0.0</td>\n    </tr>\n    <tr>\n      <th>4</th>\n      <td>2764.201381</td>\n      <td>52445.360112</td>\n      <td>1586.883118</td>\n      <td>4.470495</td>\n      <td>629.209920</td>\n      <td>12546.815080</td>\n      <td>0.072278</td>\n      <td>4.393131</td>\n      <td>0.0</td>\n    </tr>\n  </tbody>\n</table>\n</div>"
     },
     "execution_count": 518,
     "metadata": {},
     "output_type": "execute_result"
    }
   ],
   "source": [
    "example.head()"
   ]
  },
  {
   "cell_type": "code",
   "execution_count": 520,
   "id": "57e77b55",
   "metadata": {},
   "outputs": [],
   "source": [
    "## select uncorrelated features\n",
    "FEATURES = ['m/z', 'Rel. Intens.', 'Res.', 'FWHM']"
   ]
  },
  {
   "cell_type": "markdown",
   "id": "6ccfcd0b",
   "metadata": {},
   "source": [
    "Посмотрим на масс-спектры для нескольих примеров"
   ]
  },
  {
   "cell_type": "markdown",
   "id": "70ecffa1",
   "metadata": {},
   "source": [
    "Создаим спектры, которые удобно сравнитвать между собой в виде векторов в фиксированом диапазоне, и уберем необходимость использовать переменную \"m/z\"."
   ]
  },
  {
   "cell_type": "code",
   "execution_count": 524,
   "id": "c44c68ee",
   "metadata": {},
   "outputs": [
    {
     "data": {
      "text/plain": "(2040.804289776974, 17241.93492389016)"
     },
     "execution_count": 524,
     "metadata": {},
     "output_type": "execute_result"
    }
   ],
   "source": [
    "# орпеделим диапазон парамтеров\n",
    "min(train_df['m/z'].apply(min)), max(train_df['m/z'].apply(max))"
   ]
  },
  {
   "cell_type": "code",
   "execution_count": 525,
   "id": "bff807e6",
   "metadata": {},
   "outputs": [],
   "source": [
    "def create_speactr(mz, intens):\n",
    "    spec = []\n",
    "    for i in range(200, 1750):\n",
    "        if i in mz:\n",
    "            spec.append(intens[mz.index(i)])\n",
    "        else:\n",
    "            spec.append(0)\n",
    "    return spec"
   ]
  },
  {
   "cell_type": "code",
   "execution_count": 526,
   "id": "6399146f",
   "metadata": {},
   "outputs": [],
   "source": [
    "def prepocess_data(data):\n",
    "    data['mz'] = data['m/z'].apply(lambda x: [int(x_i // 10) for x_i in x])\n",
    "    data['intens'] = data.apply(lambda d: create_speactr(d['mz'], d['Rel. Intens.']),\n",
    "                           axis = 1)\n",
    "    return data"
   ]
  },
  {
   "cell_type": "code",
   "execution_count": 527,
   "id": "42b9fae4",
   "metadata": {},
   "outputs": [],
   "source": [
    "train_df = prepocess_data(train_df)"
   ]
  },
  {
   "cell_type": "markdown",
   "id": "b0380cc3",
   "metadata": {},
   "source": [
    "Перемешаем данные, чтобы классы не шли по порядку"
   ]
  },
  {
   "cell_type": "code",
   "execution_count": 528,
   "id": "00cea8d4",
   "metadata": {},
   "outputs": [],
   "source": [
    "train_df = train_df.sample(frac=1).reset_index(drop=True)"
   ]
  },
  {
   "cell_type": "markdown",
   "id": "bba52e38",
   "metadata": {},
   "source": [
    "# <center> Обучение моделей <center>"
   ]
  },
  {
   "cell_type": "markdown",
   "id": "19211f4b",
   "metadata": {},
   "source": [
    "Разобьем выборку на валидационную и тренировочную так, чтобы хотя бы один пример из каждого класса присутствавал\n",
    "в валидаицонной выборке. После разбиения уберем два класса из тренировочный выборки, чтобы можно было определить их \n",
    "как 'new'."
   ]
  },
  {
   "cell_type": "markdown",
   "id": "735bcf6b",
   "metadata": {},
   "source": [
    "_Note_:  рекомендуем рассмотреть разные вариатны разбиения на тренировочную и валидационную выборку для определения оптиматльных парпамтеров. "
   ]
  },
  {
   "cell_type": "code",
   "execution_count": 529,
   "id": "b1a65dca",
   "metadata": {},
   "outputs": [],
   "source": [
    "np.random.seed(142)\n",
    "val_ds = pd.DataFrame()\n",
    "train_ds = pd.DataFrame()\n",
    "for strain in train_df.strain.unique():\n",
    "    n = np.random.randint(1,4)\n",
    "    ids = random.sample(list(train_df.loc[train_df.strain == strain].index), n)\n",
    "    val_ds = pd.concat([val_ds, train_df.loc[ids]])\n",
    "    train_ids = list(set(train_df.loc[train_df.strain == strain].index) - set(ids))\n",
    "    train_ds = pd.concat([train_ds, train_df.loc[train_ids]])\n"
   ]
  },
  {
   "cell_type": "code",
   "execution_count": 530,
   "outputs": [
    {
     "data": {
      "text/plain": "((54, 13), (358, 13))"
     },
     "execution_count": 530,
     "metadata": {},
     "output_type": "execute_result"
    }
   ],
   "source": [
    "val_ds.shape, train_ds.shape"
   ],
   "metadata": {
    "collapsed": false
   }
  },
  {
   "cell_type": "code",
   "execution_count": 531,
   "outputs": [
    {
     "data": {
      "text/plain": "['Acinetobacter baumani_64', 'Pseudomonas fluorescence_965']"
     },
     "execution_count": 531,
     "metadata": {},
     "output_type": "execute_result"
    }
   ],
   "source": [
    "random.seed(111)\n",
    "val_strain = random.sample(sorted(list(val_ds.strain.unique())), 2)\n",
    "val_strain"
   ],
   "metadata": {
    "collapsed": false
   }
  },
  {
   "cell_type": "code",
   "execution_count": 532,
   "outputs": [],
   "source": [
    "train_ds = train_ds[~train_ds.strain.isin(val_strain)]"
   ],
   "metadata": {
    "collapsed": false
   }
  },
  {
   "cell_type": "code",
   "execution_count": 533,
   "outputs": [],
   "source": [
    "val_ds.loc[:,'target'] = val_ds.strain\n",
    "val_ds.loc[val_ds.strain.isin(val_strain),'target'] = 'new'"
   ],
   "metadata": {
    "collapsed": false
   }
  },
  {
   "cell_type": "code",
   "execution_count": 534,
   "outputs": [],
   "source": [
    "val_ds = val_ds.sample(frac=1)\n",
    "train_ds = train_ds.sample(frac=1)"
   ],
   "metadata": {
    "collapsed": false
   }
  },
  {
   "cell_type": "code",
   "execution_count": 535,
   "outputs": [],
   "source": [
    "def make_x(df, col):\n",
    "    X = []\n",
    "    for i in df.index:\n",
    "        row = df.loc[i,col]\n",
    "        X.append(row)\n",
    "    return np.array(X)"
   ],
   "metadata": {
    "collapsed": false
   }
  },
  {
   "cell_type": "markdown",
   "source": [
    "## Нейросетевой классификатор"
   ],
   "metadata": {
    "collapsed": false
   }
  },
  {
   "cell_type": "markdown",
   "source": [
    "Закодируем штаммы:"
   ],
   "metadata": {
    "collapsed": false
   }
  },
  {
   "cell_type": "code",
   "execution_count": 536,
   "outputs": [],
   "source": [
    "from sklearn.preprocessing import LabelEncoder\n",
    "train_ds['strain_encoded'] = LabelEncoder().fit_transform(train_ds['strain'])\n",
    "train_df['strain_encoded'] = LabelEncoder().fit_transform(train_df['strain'])\n",
    "\n",
    "strains = train_ds[['strain_encoded', 'strain']].drop_duplicates()\n",
    "decoder_sample = strains.set_index('strain_encoded').to_dict()['strain']\n",
    "\n",
    "strains = train_df[['strain_encoded', 'strain']].drop_duplicates()\n",
    "decoder_full = strains.set_index('strain_encoded').to_dict()['strain']\n",
    "pickle.dump(decoder_full, open(f'models/decoder.pkl', 'wb'))"
   ],
   "metadata": {
    "collapsed": false
   }
  },
  {
   "cell_type": "markdown",
   "source": [
    "Инициализируем модель и обучим ее"
   ],
   "metadata": {
    "collapsed": false
   }
  },
  {
   "cell_type": "code",
   "execution_count": 537,
   "outputs": [],
   "source": [
    "from tensorflow.python.keras.models import Sequential\n",
    "from tensorflow.python.keras.layers import Dense\n",
    "from tensorflow.python.keras.losses import SparseCategoricalCrossentropy\n",
    "from tensorflow.python.keras.regularizers import l2\n",
    "\n",
    "model = Sequential([\n",
    "    Dense(64, input_shape=[len(train_ds['intens'].head(1).item())], activation='relu', kernel_regularizer=l2(0.0001)),\n",
    "    Dense(64, activation='relu', kernel_regularizer=l2(0.0001)),\n",
    "    Dense(len(decoder_sample), activation='linear')\n",
    "  ])\n",
    "\n",
    "model.compile(optimizer='adam',\n",
    "              loss=SparseCategoricalCrossentropy(from_logits=True),\n",
    "              metrics=['accuracy'])"
   ],
   "metadata": {
    "collapsed": false
   }
  },
  {
   "cell_type": "code",
   "execution_count": 538,
   "outputs": [],
   "source": [
    "X = make_x(train_ds, col='intens')\n",
    "y = np.array(train_ds['strain_encoded'])"
   ],
   "metadata": {
    "collapsed": false
   }
  },
  {
   "cell_type": "code",
   "execution_count": 539,
   "outputs": [
    {
     "name": "stdout",
     "output_type": "stream",
     "text": [
      "Epoch 1/50\n",
      "11/11 [==============================] - 0s 6ms/step - loss: 3.1696 - accuracy: 0.1159\n",
      "Epoch 2/50\n",
      "11/11 [==============================] - 0s 7ms/step - loss: 3.0929 - accuracy: 0.2287\n",
      "Epoch 3/50\n",
      "11/11 [==============================] - 0s 8ms/step - loss: 2.9843 - accuracy: 0.2226\n",
      "Epoch 4/50\n",
      "11/11 [==============================] - 0s 8ms/step - loss: 2.8320 - accuracy: 0.2348\n",
      "Epoch 5/50\n",
      "11/11 [==============================] - 0s 6ms/step - loss: 2.6338 - accuracy: 0.2470\n",
      "Epoch 6/50\n",
      "11/11 [==============================] - 0s 6ms/step - loss: 2.4223 - accuracy: 0.2622\n",
      "Epoch 7/50\n",
      "11/11 [==============================] - 0s 7ms/step - loss: 2.2270 - accuracy: 0.3110\n",
      "Epoch 8/50\n",
      "11/11 [==============================] - 0s 6ms/step - loss: 2.0469 - accuracy: 0.4177\n",
      "Epoch 9/50\n",
      "11/11 [==============================] - 0s 6ms/step - loss: 1.8914 - accuracy: 0.5122\n",
      "Epoch 10/50\n",
      "11/11 [==============================] - 0s 4ms/step - loss: 1.7460 - accuracy: 0.6311\n",
      "Epoch 11/50\n",
      "11/11 [==============================] - 0s 4ms/step - loss: 1.6227 - accuracy: 0.6402\n",
      "Epoch 12/50\n",
      "11/11 [==============================] - 0s 4ms/step - loss: 1.5023 - accuracy: 0.6707\n",
      "Epoch 13/50\n",
      "11/11 [==============================] - 0s 4ms/step - loss: 1.3879 - accuracy: 0.7256\n",
      "Epoch 14/50\n",
      "11/11 [==============================] - 0s 6ms/step - loss: 1.2830 - accuracy: 0.7744\n",
      "Epoch 15/50\n",
      "11/11 [==============================] - 0s 5ms/step - loss: 1.1849 - accuracy: 0.7713\n",
      "Epoch 16/50\n",
      "11/11 [==============================] - 0s 5ms/step - loss: 1.0914 - accuracy: 0.7561\n",
      "Epoch 17/50\n",
      "11/11 [==============================] - 0s 5ms/step - loss: 1.0072 - accuracy: 0.8201\n",
      "Epoch 18/50\n",
      "11/11 [==============================] - 0s 6ms/step - loss: 0.9329 - accuracy: 0.8598\n",
      "Epoch 19/50\n",
      "11/11 [==============================] - 0s 5ms/step - loss: 0.8572 - accuracy: 0.8750\n",
      "Epoch 20/50\n",
      "11/11 [==============================] - 0s 5ms/step - loss: 0.7934 - accuracy: 0.8902\n",
      "Epoch 21/50\n",
      "11/11 [==============================] - 0s 4ms/step - loss: 0.7339 - accuracy: 0.9116\n",
      "Epoch 22/50\n",
      "11/11 [==============================] - 0s 5ms/step - loss: 0.6856 - accuracy: 0.9146\n",
      "Epoch 23/50\n",
      "11/11 [==============================] - 0s 4ms/step - loss: 0.6390 - accuracy: 0.9268\n",
      "Epoch 24/50\n",
      "11/11 [==============================] - 0s 5ms/step - loss: 0.5949 - accuracy: 0.9116\n",
      "Epoch 25/50\n",
      "11/11 [==============================] - 0s 5ms/step - loss: 0.5612 - accuracy: 0.8994\n",
      "Epoch 26/50\n",
      "11/11 [==============================] - 0s 4ms/step - loss: 0.5258 - accuracy: 0.9512\n",
      "Epoch 27/50\n",
      "11/11 [==============================] - 0s 4ms/step - loss: 0.4986 - accuracy: 0.9360\n",
      "Epoch 28/50\n",
      "11/11 [==============================] - 0s 4ms/step - loss: 0.4642 - accuracy: 0.9543\n",
      "Epoch 29/50\n",
      "11/11 [==============================] - 0s 4ms/step - loss: 0.4409 - accuracy: 0.9543\n",
      "Epoch 30/50\n",
      "11/11 [==============================] - 0s 4ms/step - loss: 0.4138 - accuracy: 0.9573\n",
      "Epoch 31/50\n",
      "11/11 [==============================] - 0s 4ms/step - loss: 0.3913 - accuracy: 0.9817\n",
      "Epoch 32/50\n",
      "11/11 [==============================] - 0s 4ms/step - loss: 0.3729 - accuracy: 0.9787\n",
      "Epoch 33/50\n",
      "11/11 [==============================] - 0s 4ms/step - loss: 0.3506 - accuracy: 0.9756\n",
      "Epoch 34/50\n",
      "11/11 [==============================] - 0s 4ms/step - loss: 0.3354 - accuracy: 0.9787\n",
      "Epoch 35/50\n",
      "11/11 [==============================] - 0s 4ms/step - loss: 0.3178 - accuracy: 0.9848\n",
      "Epoch 36/50\n",
      "11/11 [==============================] - 0s 4ms/step - loss: 0.3074 - accuracy: 0.9848\n",
      "Epoch 37/50\n",
      "11/11 [==============================] - 0s 4ms/step - loss: 0.2914 - accuracy: 0.9756\n",
      "Epoch 38/50\n",
      "11/11 [==============================] - 0s 4ms/step - loss: 0.2787 - accuracy: 0.9848\n",
      "Epoch 39/50\n",
      "11/11 [==============================] - 0s 4ms/step - loss: 0.2667 - accuracy: 0.9787\n",
      "Epoch 40/50\n",
      "11/11 [==============================] - 0s 5ms/step - loss: 0.2577 - accuracy: 0.9939\n",
      "Epoch 41/50\n",
      "11/11 [==============================] - 0s 5ms/step - loss: 0.2437 - accuracy: 0.9939\n",
      "Epoch 42/50\n",
      "11/11 [==============================] - 0s 5ms/step - loss: 0.2323 - accuracy: 0.9909\n",
      "Epoch 43/50\n",
      "11/11 [==============================] - 0s 5ms/step - loss: 0.2235 - accuracy: 0.9909\n",
      "Epoch 44/50\n",
      "11/11 [==============================] - 0s 4ms/step - loss: 0.2158 - accuracy: 0.9939\n",
      "Epoch 45/50\n",
      "11/11 [==============================] - 0s 5ms/step - loss: 0.2095 - accuracy: 0.9970\n",
      "Epoch 46/50\n",
      "11/11 [==============================] - 0s 5ms/step - loss: 0.2028 - accuracy: 0.9939\n",
      "Epoch 47/50\n",
      "11/11 [==============================] - 0s 5ms/step - loss: 0.1956 - accuracy: 0.9939\n",
      "Epoch 48/50\n",
      "11/11 [==============================] - 0s 5ms/step - loss: 0.1855 - accuracy: 0.9939\n",
      "Epoch 49/50\n",
      "11/11 [==============================] - 0s 4ms/step - loss: 0.1803 - accuracy: 0.9939\n",
      "Epoch 50/50\n",
      "11/11 [==============================] - 0s 4ms/step - loss: 0.1771 - accuracy: 0.9939\n"
     ]
    },
    {
     "data": {
      "text/plain": "<keras.callbacks.History at 0x2299f787c70>"
     },
     "execution_count": 539,
     "metadata": {},
     "output_type": "execute_result"
    }
   ],
   "source": [
    "model.fit(X, y, epochs=50)"
   ],
   "metadata": {
    "collapsed": false
   }
  },
  {
   "cell_type": "markdown",
   "source": [
    "### Проверяем качество модели на валидационной выборке"
   ],
   "metadata": {
    "collapsed": false
   }
  },
  {
   "cell_type": "code",
   "execution_count": 540,
   "outputs": [],
   "source": [
    "X_pred = make_x(val_ds, col='intens')"
   ],
   "metadata": {
    "collapsed": false
   }
  },
  {
   "cell_type": "code",
   "execution_count": 541,
   "outputs": [
    {
     "name": "stdout",
     "output_type": "stream",
     "text": [
      "2/2 [==============================] - 0s 3ms/step\n"
     ]
    }
   ],
   "source": [
    "res = model.predict(X_pred)\n",
    "class_name = []\n",
    "for res_i in res:\n",
    "    if max(res_i) > 1.0:\n",
    "        class_name.append(decoder_sample[res_i.argmax()])\n",
    "    else:\n",
    "        class_name.append('new')"
   ],
   "metadata": {
    "collapsed": false
   }
  },
  {
   "cell_type": "code",
   "execution_count": 542,
   "outputs": [
    {
     "name": "stdout",
     "output_type": "stream",
     "text": [
      "Accuracy: 0.9074074074074074\n"
     ]
    }
   ],
   "source": [
    "val_ds.loc[:,'class_name'] = class_name\n",
    "print(f\"Accuracy: {1 - len(val_ds['target'].compare(val_ds['class_name'])) / len(val_ds)}\")"
   ],
   "metadata": {
    "collapsed": false
   }
  },
  {
   "cell_type": "code",
   "execution_count": 543,
   "outputs": [
    {
     "name": "stdout",
     "output_type": "stream",
     "text": [
      "F1-score: 0.8855238095238094\n"
     ]
    }
   ],
   "source": [
    "print(f\"F1-score: {f1_score(val_ds.class_name, val_ds.target, average='macro')}\")"
   ],
   "metadata": {
    "collapsed": false
   }
  },
  {
   "cell_type": "markdown",
   "source": [
    "Заново обучим модель на всей тренировочной выборке, так как мы исключали классы для валидации"
   ],
   "metadata": {
    "collapsed": false
   }
  },
  {
   "cell_type": "code",
   "execution_count": 544,
   "outputs": [
    {
     "name": "stdout",
     "output_type": "stream",
     "text": [
      "Epoch 1/50\n",
      "13/13 [==============================] - 1s 5ms/step - loss: 3.2480 - accuracy: 0.0728\n",
      "Epoch 2/50\n",
      "13/13 [==============================] - 0s 5ms/step - loss: 3.1552 - accuracy: 0.2743\n",
      "Epoch 3/50\n",
      "13/13 [==============================] - 0s 5ms/step - loss: 3.0029 - accuracy: 0.3301\n",
      "Epoch 4/50\n",
      "13/13 [==============================] - 0s 5ms/step - loss: 2.7805 - accuracy: 0.3447\n",
      "Epoch 5/50\n",
      "13/13 [==============================] - 0s 5ms/step - loss: 2.5145 - accuracy: 0.3835\n",
      "Epoch 6/50\n",
      "13/13 [==============================] - 0s 5ms/step - loss: 2.2367 - accuracy: 0.4490\n",
      "Epoch 7/50\n",
      "13/13 [==============================] - 0s 5ms/step - loss: 1.9905 - accuracy: 0.4490\n",
      "Epoch 8/50\n",
      "13/13 [==============================] - 0s 4ms/step - loss: 1.7936 - accuracy: 0.5558\n",
      "Epoch 9/50\n",
      "13/13 [==============================] - 0s 5ms/step - loss: 1.6307 - accuracy: 0.6990\n",
      "Epoch 10/50\n",
      "13/13 [==============================] - 0s 4ms/step - loss: 1.4906 - accuracy: 0.7233\n",
      "Epoch 11/50\n",
      "13/13 [==============================] - 0s 5ms/step - loss: 1.3579 - accuracy: 0.7670\n",
      "Epoch 12/50\n",
      "13/13 [==============================] - 0s 5ms/step - loss: 1.2367 - accuracy: 0.7937\n",
      "Epoch 13/50\n",
      "13/13 [==============================] - 0s 5ms/step - loss: 1.1263 - accuracy: 0.8422\n",
      "Epoch 14/50\n",
      "13/13 [==============================] - 0s 5ms/step - loss: 1.0180 - accuracy: 0.8617\n",
      "Epoch 15/50\n",
      "13/13 [==============================] - 0s 5ms/step - loss: 0.9185 - accuracy: 0.8835\n",
      "Epoch 16/50\n",
      "13/13 [==============================] - 0s 5ms/step - loss: 0.8317 - accuracy: 0.8908\n",
      "Epoch 17/50\n",
      "13/13 [==============================] - 0s 4ms/step - loss: 0.7594 - accuracy: 0.9102\n",
      "Epoch 18/50\n",
      "13/13 [==============================] - 0s 4ms/step - loss: 0.6900 - accuracy: 0.9345\n",
      "Epoch 19/50\n",
      "13/13 [==============================] - 0s 4ms/step - loss: 0.6305 - accuracy: 0.9320\n",
      "Epoch 20/50\n",
      "13/13 [==============================] - 0s 4ms/step - loss: 0.5808 - accuracy: 0.9393\n",
      "Epoch 21/50\n",
      "13/13 [==============================] - 0s 4ms/step - loss: 0.5354 - accuracy: 0.9345\n",
      "Epoch 22/50\n",
      "13/13 [==============================] - 0s 4ms/step - loss: 0.4974 - accuracy: 0.9660\n",
      "Epoch 23/50\n",
      "13/13 [==============================] - 0s 5ms/step - loss: 0.4613 - accuracy: 0.9417\n",
      "Epoch 24/50\n",
      "13/13 [==============================] - 0s 4ms/step - loss: 0.4252 - accuracy: 0.9684\n",
      "Epoch 25/50\n",
      "13/13 [==============================] - 0s 4ms/step - loss: 0.3999 - accuracy: 0.9612\n",
      "Epoch 26/50\n",
      "13/13 [==============================] - 0s 4ms/step - loss: 0.3713 - accuracy: 0.9709\n",
      "Epoch 27/50\n",
      "13/13 [==============================] - 0s 4ms/step - loss: 0.3481 - accuracy: 0.9757\n",
      "Epoch 28/50\n",
      "13/13 [==============================] - 0s 4ms/step - loss: 0.3284 - accuracy: 0.9684\n",
      "Epoch 29/50\n",
      "13/13 [==============================] - 0s 5ms/step - loss: 0.3124 - accuracy: 0.9830\n",
      "Epoch 30/50\n",
      "13/13 [==============================] - 0s 5ms/step - loss: 0.2957 - accuracy: 0.9757\n",
      "Epoch 31/50\n",
      "13/13 [==============================] - 0s 5ms/step - loss: 0.2816 - accuracy: 0.9684\n",
      "Epoch 32/50\n",
      "13/13 [==============================] - 0s 4ms/step - loss: 0.2670 - accuracy: 0.9854\n",
      "Epoch 33/50\n",
      "13/13 [==============================] - 0s 4ms/step - loss: 0.2532 - accuracy: 0.9806\n",
      "Epoch 34/50\n",
      "13/13 [==============================] - 0s 4ms/step - loss: 0.2415 - accuracy: 0.9879\n",
      "Epoch 35/50\n",
      "13/13 [==============================] - 0s 4ms/step - loss: 0.2315 - accuracy: 0.9830\n",
      "Epoch 36/50\n",
      "13/13 [==============================] - 0s 4ms/step - loss: 0.2199 - accuracy: 0.9879\n",
      "Epoch 37/50\n",
      "13/13 [==============================] - 0s 4ms/step - loss: 0.2100 - accuracy: 0.9903\n",
      "Epoch 38/50\n",
      "13/13 [==============================] - 0s 5ms/step - loss: 0.2034 - accuracy: 0.9903\n",
      "Epoch 39/50\n",
      "13/13 [==============================] - 0s 4ms/step - loss: 0.1960 - accuracy: 0.9927\n",
      "Epoch 40/50\n",
      "13/13 [==============================] - 0s 4ms/step - loss: 0.1881 - accuracy: 0.9951\n",
      "Epoch 41/50\n",
      "13/13 [==============================] - 0s 5ms/step - loss: 0.1850 - accuracy: 0.9903\n",
      "Epoch 42/50\n",
      "13/13 [==============================] - 0s 4ms/step - loss: 0.1754 - accuracy: 0.9951\n",
      "Epoch 43/50\n",
      "13/13 [==============================] - 0s 4ms/step - loss: 0.1705 - accuracy: 0.9951\n",
      "Epoch 44/50\n",
      "13/13 [==============================] - 0s 5ms/step - loss: 0.1663 - accuracy: 0.9951\n",
      "Epoch 45/50\n",
      "13/13 [==============================] - 0s 5ms/step - loss: 0.1617 - accuracy: 0.9951\n",
      "Epoch 46/50\n",
      "13/13 [==============================] - 0s 5ms/step - loss: 0.1558 - accuracy: 0.9927\n",
      "Epoch 47/50\n",
      "13/13 [==============================] - 0s 5ms/step - loss: 0.1522 - accuracy: 0.9951\n",
      "Epoch 48/50\n",
      "13/13 [==============================] - 0s 4ms/step - loss: 0.1484 - accuracy: 0.9951\n",
      "Epoch 49/50\n",
      "13/13 [==============================] - 0s 5ms/step - loss: 0.1445 - accuracy: 0.9951\n",
      "Epoch 50/50\n",
      "13/13 [==============================] - 0s 4ms/step - loss: 0.1406 - accuracy: 0.9976\n"
     ]
    },
    {
     "data": {
      "text/plain": "<keras.callbacks.History at 0x2282a347ca0>"
     },
     "execution_count": 544,
     "metadata": {},
     "output_type": "execute_result"
    }
   ],
   "source": [
    "X = make_x(train_df, col='intens')\n",
    "y = np.array(train_df['strain_encoded'])\n",
    "\n",
    "model = Sequential([\n",
    "    Dense(64, input_shape=[len(train_df['intens'].head(1).item())], activation='relu', kernel_regularizer=l2(0.0001)),\n",
    "    Dense(64, activation='relu', kernel_regularizer=l2(0.0001)),\n",
    "    Dense(len(decoder_full), activation='linear')\n",
    "  ])\n",
    "\n",
    "model.compile(optimizer='adam',\n",
    "              loss=SparseCategoricalCrossentropy(from_logits=True),\n",
    "              metrics=['accuracy'])\n",
    "\n",
    "model.fit(X, y, epochs=50)"
   ],
   "metadata": {
    "collapsed": false
   }
  },
  {
   "cell_type": "code",
   "execution_count": 545,
   "outputs": [
    {
     "name": "stdout",
     "output_type": "stream",
     "text": [
      "INFO:tensorflow:Assets written to: models/nn\\assets\n"
     ]
    }
   ],
   "source": [
    "model.save(\"models/nn\")"
   ],
   "metadata": {
    "collapsed": false
   }
  }
 ],
 "metadata": {
  "kernelspec": {
   "display_name": "Python 3.10.7 ('.venv': venv)",
   "language": "python",
   "name": "python3"
  },
  "language_info": {
   "codemirror_mode": {
    "name": "ipython",
    "version": 3
   },
   "file_extension": ".py",
   "mimetype": "text/x-python",
   "name": "python",
   "nbconvert_exporter": "python",
   "pygments_lexer": "ipython3",
   "version": "3.10.7"
  },
  "vscode": {
   "interpreter": {
    "hash": "347a515e76d9a9db65350279653fbf94f0490b8f068ea000b7cff8a856855a95"
   }
  }
 },
 "nbformat": 4,
 "nbformat_minor": 5
}
